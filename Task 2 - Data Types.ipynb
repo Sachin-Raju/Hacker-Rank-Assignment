{
 "cells": [
  {
   "cell_type": "markdown",
   "id": "4e2c2140",
   "metadata": {},
   "source": [
    "### Q1 -  List Comprehensions"
   ]
  },
  {
   "cell_type": "code",
   "execution_count": 28,
   "id": "4025641c",
   "metadata": {},
   "outputs": [
    {
     "name": "stdout",
     "output_type": "stream",
     "text": [
      "1\n",
      "1\n",
      "2\n",
      "3\n",
      "[[0, 0, 0], [0, 0, 1], [0, 0, 2], [0, 1, 0], [0, 1, 1], [1, 0, 0], [1, 0, 1], [1, 1, 0], [1, 1, 2]]\n"
     ]
    }
   ],
   "source": [
    "if __name__ == '__main__':\n",
    "    x = int(input())\n",
    "    y = int(input())\n",
    "    z = int(input())\n",
    "    n = int(input())\n",
    "    final_list =[]\n",
    "    for i in range(1+x):\n",
    "        for j in range(y+1):\n",
    "            for k in range(1+z):\n",
    "                if i+j+k!=n:\n",
    "                    temp=[i,j,k]\n",
    "                    final_list.append(temp)\n",
    "                else:\n",
    "                    continue\n",
    "    print(final_list)"
   ]
  },
  {
   "cell_type": "markdown",
   "id": "f5ff4c4a",
   "metadata": {},
   "source": [
    "### Q2 - Find the Runner-Up Score!"
   ]
  },
  {
   "cell_type": "code",
   "execution_count": 29,
   "id": "7ab80d4e",
   "metadata": {},
   "outputs": [
    {
     "name": "stdout",
     "output_type": "stream",
     "text": [
      "5\n",
      "2 3 6 6 5\n",
      "5\n"
     ]
    }
   ],
   "source": [
    "if __name__ == '__main__':\n",
    "    n = int(input())\n",
    "    arr = list(map(int, input().split()))\n",
    "    arr.sort()\n",
    "    max1=arr[-1]\n",
    "    arr.sort(reverse=True)\n",
    "    for x in arr:\n",
    "        if x!=max1:\n",
    "            result = x\n",
    "            print(result)\n",
    "            break"
   ]
  },
  {
   "cell_type": "markdown",
   "id": "958f6d7d",
   "metadata": {},
   "source": [
    "### Q3 - Nested Lists"
   ]
  },
  {
   "cell_type": "code",
   "execution_count": 32,
   "id": "c17950b9",
   "metadata": {},
   "outputs": [
    {
     "name": "stdout",
     "output_type": "stream",
     "text": [
      "5\n",
      "Harry\n",
      "37.21\n",
      "Berry\n",
      "37.21\n",
      "Tina\n",
      "37.2\n",
      "Akriti\n",
      "41\n",
      "Harsh\n",
      "39\n",
      "Result :  Berry\n",
      "Result :  Harry\n"
     ]
    }
   ],
   "source": [
    "if __name__ == '__main__':\n",
    "    final_list =[]\n",
    "    marks=[]\n",
    "    for _ in range(int(input())):\n",
    "        l= list()\n",
    "        l.append(input())\n",
    "        score = float(input())\n",
    "        l.append(score)\n",
    "        marks.append(score)\n",
    "        final_list.append(l)\n",
    "    marks.sort()\n",
    "    min_value = marks[0]\n",
    "    marks.remove(min_value)\n",
    "    for i in marks:\n",
    "        if i>min_value:\n",
    "            Result_value = i\n",
    "            break\n",
    "    Result_names=[]\n",
    "    for i in range(len(final_list)):\n",
    "        if Result_value in final_list[i]:\n",
    "            Result_names.append(final_list[i][0])\n",
    "    Result_names.sort()\n",
    "    for i in Result_names:\n",
    "        print(\"Result : \",i)"
   ]
  },
  {
   "cell_type": "markdown",
   "id": "7f35db4e",
   "metadata": {},
   "source": [
    "### Q4 - Finding the percentage"
   ]
  },
  {
   "cell_type": "code",
   "execution_count": 1,
   "id": "ae4f4ded",
   "metadata": {},
   "outputs": [
    {
     "name": "stdout",
     "output_type": "stream",
     "text": [
      "3\n",
      "Krishna 67 68 69\n",
      "Arjun 70 98 63\n",
      "Malika 52 56 60\n",
      "Malika\n",
      "56.00\n"
     ]
    }
   ],
   "source": [
    "if __name__ == '__main__':\n",
    "    n = int(input())\n",
    "    student_marks = {}\n",
    "    for _ in range(n):\n",
    "        name, *line = input().split()\n",
    "        scores = list(map(float, line))\n",
    "        student_marks[name] = scores\n",
    "    query_name = input()\n",
    "    for i in student_marks:\n",
    "        j = student_marks.get(i)\n",
    "        if i==query_name:\n",
    "            result = 0\n",
    "            for k in j:\n",
    "                result+= float(k)\n",
    "            print(\"{:.2f}\".format((result/len(j))))\n",
    "            break\n",
    "        else:\n",
    "            continue"
   ]
  },
  {
   "cell_type": "markdown",
   "id": "48acbf9e",
   "metadata": {},
   "source": [
    "### Q5- Lists"
   ]
  },
  {
   "cell_type": "code",
   "execution_count": 6,
   "id": "deb32126",
   "metadata": {},
   "outputs": [
    {
     "name": "stdout",
     "output_type": "stream",
     "text": [
      "12\n",
      "insert 0 5\n",
      "insert 1 10\n",
      "insert 0 6\n",
      "print\n",
      "[6, 5, 10]\n",
      "remove 6\n",
      "append 9\n",
      "append 1\n",
      "sort\n",
      "print\n",
      "[1, 5, 9, 10]\n",
      "pop\n",
      "reverse\n",
      "print\n",
      "[9, 5, 1]\n"
     ]
    }
   ],
   "source": [
    "if __name__ == '__main__':\n",
    "    lst = []\n",
    "    N = int(input())\n",
    "    for i in range(N):\n",
    "        mn= list(input(\"\").split(\" \"))\n",
    "        \n",
    "        if mn[0]==\"insert\":\n",
    "            a , b = map(int , (mn[1],mn[2]))\n",
    "            lst.insert(a,b)\n",
    "            \n",
    "        elif mn[0]==\"print\":\n",
    "            print(lst)\n",
    "            \n",
    "        elif mn[0]==\"remove\":\n",
    "                lst.remove(int(mn[1]))\n",
    "\n",
    "        elif mn[0]==\"append\":\n",
    "            lst.append(int(mn[1]))\n",
    "            \n",
    "        elif mn[0]==\"sort\":\n",
    "            lst.sort()\n",
    "        \n",
    "        elif mn[0]==\"pop\":\n",
    "            \n",
    "            lst.pop()\n",
    "        elif mn[0]==\"reverse\":\n",
    "            lst.reverse()"
   ]
  },
  {
   "cell_type": "markdown",
   "id": "a00d6442",
   "metadata": {},
   "source": [
    "### Q6 - Tuples"
   ]
  },
  {
   "cell_type": "code",
   "execution_count": 27,
   "id": "b2cc323b",
   "metadata": {},
   "outputs": [
    {
     "name": "stdout",
     "output_type": "stream",
     "text": [
      "2\n",
      "1 2\n",
      "-3550055125485641917\n"
     ]
    }
   ],
   "source": [
    "if __name__ == '__main__':\n",
    "    n = int(input())\n",
    "    integer_list = tuple(map(int, input().split()))\n",
    "    print(hash(integer_list))\n"
   ]
  },
  {
   "cell_type": "markdown",
   "id": "2ee32fd3",
   "metadata": {},
   "source": [
    "### Q7- Introduction to Sets"
   ]
  },
  {
   "cell_type": "code",
   "execution_count": 1,
   "id": "88c898d7",
   "metadata": {},
   "outputs": [
    {
     "name": "stdout",
     "output_type": "stream",
     "text": [
      "10\n",
      "161 182 161 154 176 170 167 171 170 174\n",
      "169.375\n"
     ]
    }
   ],
   "source": [
    "def average(array):\n",
    "    # your code goes here\n",
    "    return (sum(set(array))/len(set(array)))\n",
    "if __name__ == '__main__':\n",
    "    n = int(input())\n",
    "    arr = list(map(int, input().split()))\n",
    "    result = average(arr)\n",
    "    print(result)"
   ]
  },
  {
   "cell_type": "markdown",
   "id": "5c802907",
   "metadata": {},
   "source": [
    "### Q8 - No Idea!"
   ]
  },
  {
   "cell_type": "code",
   "execution_count": 2,
   "id": "7d7feb83",
   "metadata": {},
   "outputs": [
    {
     "name": "stdout",
     "output_type": "stream",
     "text": [
      "3 2\n",
      "1 5 3\n",
      "3 1\n",
      "5 7\n",
      "1\n"
     ]
    }
   ],
   "source": [
    "n , m = map(int , input(\"\").split(\" \"))\n",
    "n_list=list(map(int , input(\"\").split(\" \")))\n",
    "Set_A=set(int(x) for x in input(\"\").split(\" \"))\n",
    "Set_B = set(int(x) for x in input(\"\").split(\" \"))\n",
    "result=0\n",
    "for i in n_list:\n",
    "    if i in Set_A:\n",
    "        result+=1\n",
    "    elif i in Set_B:\n",
    "        result-=1\n",
    "    elif i not in Set_B and i not in Set_A:\n",
    "        pass\n",
    "print(result)"
   ]
  },
  {
   "cell_type": "markdown",
   "id": "89fb2423",
   "metadata": {},
   "source": [
    "### Q9- Symmetric Difference"
   ]
  },
  {
   "cell_type": "code",
   "execution_count": 3,
   "id": "40d03f9b",
   "metadata": {},
   "outputs": [
    {
     "name": "stdout",
     "output_type": "stream",
     "text": [
      "4\n",
      "2 4 5 9\n",
      "4\n",
      "2 4 11 12\n",
      "5\n",
      "9\n",
      "11\n",
      "12\n"
     ]
    }
   ],
   "source": [
    "M = int(input())\n",
    "mset = set(map(int, input().split()))\n",
    "N = int(input())\n",
    "nset = set(map(int, input().split()))\n",
    "\n",
    "mdef = mset.difference(nset)\n",
    "ndef = nset.difference(mset)\n",
    "\n",
    "output = mdef.union(ndef)\n",
    "\n",
    "for i in sorted(list(output)):\n",
    "    print(i)"
   ]
  },
  {
   "cell_type": "markdown",
   "id": "032003dc",
   "metadata": {},
   "source": [
    "### Q10- Set .add()"
   ]
  },
  {
   "cell_type": "code",
   "execution_count": 4,
   "id": "66203282",
   "metadata": {},
   "outputs": [
    {
     "name": "stdout",
     "output_type": "stream",
     "text": [
      "7\n",
      "UK\n",
      "China\n",
      "USA\n",
      "France\n",
      "New Zealand\n",
      "UK\n",
      "France\n",
      "5\n"
     ]
    }
   ],
   "source": [
    "n=int(input(\"\"))\n",
    "s = set()\n",
    "for i in range(n):\n",
    "    m=input(\"\")\n",
    "    s.add(m)\n",
    "\n",
    "print(len(s))"
   ]
  },
  {
   "cell_type": "markdown",
   "id": "8b04c79e",
   "metadata": {},
   "source": [
    "### Q11- Set .discard(), .remove() & .pop()"
   ]
  },
  {
   "cell_type": "code",
   "execution_count": 5,
   "id": "329a976b",
   "metadata": {},
   "outputs": [
    {
     "name": "stdout",
     "output_type": "stream",
     "text": [
      "9\n",
      "1 2 3 4 5 6 7 8 9\n",
      "10\n",
      "pop\n",
      "remove 9\n",
      "discard 9\n",
      "discard 8\n",
      "remove 7\n",
      "pop\n",
      "discard 6\n",
      "remove 5\n",
      "pop\n",
      "discard 5\n",
      "4\n"
     ]
    }
   ],
   "source": [
    "n = int(input())\n",
    "s = set(map(int, input().split(\" \")))\n",
    "m = int(input())\n",
    "for i in range(0,m):\n",
    "    x=list(input().split(\" \"))\n",
    "    if x[0]==\"pop\":\n",
    "        s.pop()\n",
    "    elif x[0]==\"remove\":\n",
    "        j = int(x[1])\n",
    "        s.remove(j)\n",
    "    elif x[0]==\"discard\":\n",
    "        j = int(x[1])\n",
    "        s.discard(j)\n",
    "print(sum(s))"
   ]
  },
  {
   "cell_type": "markdown",
   "id": "d1f2311d",
   "metadata": {},
   "source": [
    "### Q12 - Set .union() Operation "
   ]
  },
  {
   "cell_type": "code",
   "execution_count": 6,
   "id": "2738acd4",
   "metadata": {},
   "outputs": [
    {
     "name": "stdout",
     "output_type": "stream",
     "text": [
      "9\n",
      "1 2 3 4 5 6 7 8 9\n",
      "9\n",
      "10 1 2 3 11 21 55 6 8\n",
      "13\n"
     ]
    }
   ],
   "source": [
    "n1 = int(input(\"\"))\n",
    "ls1=set(map(int , input(\"\").split(\" \")))\n",
    "n2 = int(input(\"\"))\n",
    "ls2=set(map(int , input(\"\").split(\" \")))\n",
    "ma = set(ls1.union(ls2))\n",
    "output =0\n",
    "for i in ma:\n",
    "    output+=1\n",
    "\n",
    "output = str(output)\n",
    "print(output)"
   ]
  },
  {
   "cell_type": "markdown",
   "id": "74ff93c8",
   "metadata": {},
   "source": [
    "### Q13 - Set .intersection() Operation"
   ]
  },
  {
   "cell_type": "code",
   "execution_count": 7,
   "id": "7de4e2fa",
   "metadata": {},
   "outputs": [
    {
     "name": "stdout",
     "output_type": "stream",
     "text": [
      "9\n",
      "1 2 3 4 5 6 7 8 9\n",
      "9\n",
      "10 1 2 3 11 21 55 6 8\n",
      "5\n"
     ]
    }
   ],
   "source": [
    "n1 = int(input(\"\"))\n",
    "ls1=set(map(int , input(\"\").split(\" \")))\n",
    "n2 = int(input(\"\"))\n",
    "ls2=set(map(int , input(\"\").split(\" \")))\n",
    "ma = set(ls1.intersection(ls2))\n",
    "output=0\n",
    "for i in ma:\n",
    "    output+=1\n",
    "print(output)"
   ]
  },
  {
   "cell_type": "markdown",
   "id": "4da60e5b",
   "metadata": {},
   "source": [
    "### Q14 - Set .difference() Operation"
   ]
  },
  {
   "cell_type": "code",
   "execution_count": 8,
   "id": "9d5abdd4",
   "metadata": {},
   "outputs": [
    {
     "name": "stdout",
     "output_type": "stream",
     "text": [
      "9\n",
      "1 2 3 4 5 6 7 8 9\n",
      "9\n",
      "10 1 2 3 11 21 55 6 8\n",
      "4\n"
     ]
    }
   ],
   "source": [
    "m = int(input(\"\"))\n",
    "ma = set(map(int , input(\"\").split(\" \")))\n",
    "m1 = int(input(\"\"))\n",
    "ma1 = set(map(int , input(\"\").split(\" \")))\n",
    "Final_Set = ma.difference(ma1)\n",
    "output = 0\n",
    "for i in Final_Set:\n",
    "    output+=1\n",
    "print(output)"
   ]
  },
  {
   "cell_type": "markdown",
   "id": "491df19f",
   "metadata": {},
   "source": [
    "### Q15 - Set .symmetric_difference() Operation"
   ]
  },
  {
   "cell_type": "code",
   "execution_count": 9,
   "id": "575e5649",
   "metadata": {},
   "outputs": [
    {
     "name": "stdout",
     "output_type": "stream",
     "text": [
      "9\n",
      "1 2 3 4 5 6 7 8 9\n",
      "9\n",
      "10 1 2 3 11 21 55 6 8\n",
      "8\n"
     ]
    }
   ],
   "source": [
    "a0 = int(input(\"\"))\n",
    "s = set(filter(int , input(\"\").split(' ')))\n",
    "a1 = int(input(\"\"))\n",
    "Final_Set = set(filter(int , input(\"\").split(' ')))\n",
    "SetA = s.symmetric_difference(Final_Set)\n",
    "output = 0\n",
    "for i in SetA:\n",
    "    output+=1\n",
    "print(output)"
   ]
  },
  {
   "cell_type": "markdown",
   "id": "a44235e9",
   "metadata": {},
   "source": [
    "### Q16 - Set Mutations"
   ]
  },
  {
   "cell_type": "code",
   "execution_count": 10,
   "id": "e3afbe62",
   "metadata": {},
   "outputs": [
    {
     "name": "stdout",
     "output_type": "stream",
     "text": [
      "16\n",
      "1 2 3 4 5 6 7 8 9 10 11 12 13 14 24 52\n",
      "4\n",
      "intersection_update 10\n",
      "2 3 5 6 8 9 1 4 7 11\n",
      "update 2\n",
      "55 66\n",
      "symmetric_difference_update 5\n",
      "22 7 35 62 58\n",
      "difference_update 7\n",
      "11 22 35 55 58 62 66\n",
      "38\n"
     ]
    }
   ],
   "source": [
    "n = int(input(\"\"))\n",
    "seta = set(map(int , input(\"\").split(\" \")))\n",
    "j = int(input(\"\"))\n",
    "for i in range(j):\n",
    "    ian = list(input().split())\n",
    "    if ian[0]== \"intersection_update\":\n",
    "        fi = set(int(x) for x in input('').split(\" \")) \n",
    "        seta.intersection_update(fi)\n",
    "\n",
    "    elif ian[0] == \"symmetric_difference_update\":\n",
    "        fi = set(int(x) for x in input('').split(\" \"))\n",
    "        seta.symmetric_difference_update(fi)\n",
    "\n",
    "    elif ian[0] == \"update\":\n",
    "        fi = set(int(x) for x in input('').split(\" \"))\n",
    "        seta.update(fi)\n",
    "\n",
    "    elif ian[0] == \"difference_update\":\n",
    "        fi = set(int(x) for x in input('').split(\" \"))\n",
    "        seta.difference_update(fi)\n",
    "res = 0\n",
    "for m in seta:\n",
    "    res+=m\n",
    "print(res)"
   ]
  },
  {
   "cell_type": "markdown",
   "id": "8d516e17",
   "metadata": {},
   "source": [
    "### Q17- The Captain's Room"
   ]
  },
  {
   "cell_type": "code",
   "execution_count": 11,
   "id": "c99921f5",
   "metadata": {},
   "outputs": [
    {
     "name": "stdout",
     "output_type": "stream",
     "text": [
      "5\n",
      "1 2 3 6 5 4 4 2 5 3 6 1 6 5 3 2 4 1 2 5 1 4 3 6 8 4 3 1 5 6 2\n",
      "8\n"
     ]
    }
   ],
   "source": [
    "N = int(input())\n",
    "\n",
    "storage = map(int, input().split())\n",
    "storage = sorted(storage)\n",
    "\n",
    "for i in range(len(storage)):\n",
    "    if(i != len(storage)-1):\n",
    "        if(storage[i]!=storage[i-1] and storage[i]!=storage[i+1]):\n",
    "            print(storage[i])\n",
    "            break;\n",
    "    else:\n",
    "        print(storage[i])"
   ]
  },
  {
   "cell_type": "markdown",
   "id": "a2a697cb",
   "metadata": {},
   "source": [
    "### Q18 - Check Subset"
   ]
  },
  {
   "cell_type": "code",
   "execution_count": 12,
   "id": "8d3ffd7c",
   "metadata": {},
   "outputs": [
    {
     "name": "stdout",
     "output_type": "stream",
     "text": [
      "3\n",
      "5\n",
      "1 2 3 5 6\n",
      "9\n",
      "9 8 5 6 3 2 1 4 7\n",
      "True\n",
      "1\n",
      "2\n",
      "5\n",
      "3 6 5 4 1\n",
      "False\n",
      "7\n",
      "1 2 3 5 6 8 9\n",
      "3\n",
      "9 8 2\n",
      "False\n"
     ]
    }
   ],
   "source": [
    "def Subset(a,b):\n",
    "    result = 0\n",
    "    for i in a:\n",
    "        if i in b:\n",
    "            result = 1\n",
    "        else:\n",
    "            result = 0\n",
    "            break\n",
    "    return True if result == 1 else False# Using Ternary Operator\n",
    "\n",
    "test_case = int(input(\"\"))\n",
    "for i in range(test_case):\n",
    "    a= int(input(\"\"))\n",
    "    seta = set(int(x) for x in input().split(\" \"))\n",
    "    b =int(input(\"\"))\n",
    "    setb = set(int(x) for x in input().split(\" \"))\n",
    "    print(Subset(seta , setb))"
   ]
  },
  {
   "cell_type": "markdown",
   "id": "fdcfdd61",
   "metadata": {},
   "source": [
    "### Q19 - Check Strict Superset"
   ]
  },
  {
   "cell_type": "code",
   "execution_count": 13,
   "id": "00a0069a",
   "metadata": {},
   "outputs": [
    {
     "name": "stdout",
     "output_type": "stream",
     "text": [
      "1 2 3 4 5 6 7 8 9 10 11 12 23 45 84 78\n",
      "2\n",
      "1 2 3 4 5\n",
      "100 11 12\n",
      "False\n"
     ]
    }
   ],
   "source": [
    "storage = set(input().split())\n",
    "N = int(input())\n",
    "output = True\n",
    "\n",
    "for i in range(N):\n",
    "    storage2 = set(input().split())\n",
    "    if not storage2.issubset(storage):\n",
    "        output = False\n",
    "    if len(storage2) >= len(storage):\n",
    "        output = False\n",
    "        \n",
    "print(output)"
   ]
  },
  {
   "cell_type": "code",
   "execution_count": null,
   "id": "17d7fc77",
   "metadata": {},
   "outputs": [],
   "source": []
  },
  {
   "cell_type": "code",
   "execution_count": null,
   "id": "80dad432",
   "metadata": {},
   "outputs": [],
   "source": []
  },
  {
   "cell_type": "code",
   "execution_count": null,
   "id": "d9493d56",
   "metadata": {},
   "outputs": [],
   "source": []
  },
  {
   "cell_type": "code",
   "execution_count": null,
   "id": "f2fb854e",
   "metadata": {},
   "outputs": [],
   "source": []
  },
  {
   "cell_type": "code",
   "execution_count": null,
   "id": "e2f05b41",
   "metadata": {},
   "outputs": [],
   "source": []
  },
  {
   "cell_type": "code",
   "execution_count": null,
   "id": "ea3801fc",
   "metadata": {},
   "outputs": [],
   "source": []
  },
  {
   "cell_type": "code",
   "execution_count": null,
   "id": "3207654f",
   "metadata": {},
   "outputs": [],
   "source": []
  }
 ],
 "metadata": {
  "kernelspec": {
   "display_name": "Python 3",
   "language": "python",
   "name": "python3"
  },
  "language_info": {
   "codemirror_mode": {
    "name": "ipython",
    "version": 3
   },
   "file_extension": ".py",
   "mimetype": "text/x-python",
   "name": "python",
   "nbconvert_exporter": "python",
   "pygments_lexer": "ipython3",
   "version": "3.8.8"
  }
 },
 "nbformat": 4,
 "nbformat_minor": 5
}
