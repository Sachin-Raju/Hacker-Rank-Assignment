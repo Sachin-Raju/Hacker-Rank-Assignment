{
 "cells": [
  {
   "cell_type": "markdown",
   "id": "e0e9807c",
   "metadata": {},
   "source": [
    "### Q1- Print Hello, World! with Python"
   ]
  },
  {
   "cell_type": "code",
   "execution_count": 1,
   "id": "8873d472",
   "metadata": {},
   "outputs": [
    {
     "name": "stdout",
     "output_type": "stream",
     "text": [
      "Hello, World!\n"
     ]
    }
   ],
   "source": [
    "print (\"Hello, World!\")"
   ]
  },
  {
   "cell_type": "markdown",
   "id": "0559715a",
   "metadata": {},
   "source": [
    "### Q2- Python If-Else\n",
    "Given an integer,n , perform the following conditional actions:\n",
    "\n",
    "If n is odd, print Weird\n",
    "\n",
    "If n is even and in the inclusive range of 2 to 5, print Not Weird\n",
    "\n",
    "If n is even and in the inclusive range of 6 to 20, print Weird\n",
    "\n",
    "If n is even and greater than 20, print Not Weird"
   ]
  },
  {
   "cell_type": "code",
   "execution_count": 2,
   "id": "bfec1974",
   "metadata": {},
   "outputs": [
    {
     "name": "stdout",
     "output_type": "stream",
     "text": [
      "2\n",
      "Not Weird\n"
     ]
    }
   ],
   "source": [
    "import math\n",
    "import os\n",
    "import random\n",
    "import re\n",
    "import sys\n",
    "\n",
    "\n",
    "\n",
    "if __name__ == '__main__':\n",
    "    n = int(input().strip())\n",
    "if n%2==1:\n",
    "    print(\"Weird\")\n",
    "elif n%2==0 and(n>=2 and n<6):\n",
    "    print(\"Not Weird\")\n",
    "elif n%2==0 and (n>6 and n<21):\n",
    "    print(\"Weird\")\n",
    "else:\n",
    "    print(\"Not Weird\")\n"
   ]
  },
  {
   "cell_type": "markdown",
   "id": "d6fd4604",
   "metadata": {},
   "source": [
    "### Q3- Arithmetic Operators\n",
    "The provided code stub reads two integers from STDIN, a and b. Add code to print three lines where:\n",
    "\n",
    "1. The first line contains the sum of the two numbers.\n",
    "2. The second line contains the difference of the two numbers (first - second).\n",
    "3. The third line contains the product of the two numbers.\n",
    "\n",
    "Example\n",
    "\n",
    "a=3\n",
    "\n",
    "b=5"
   ]
  },
  {
   "cell_type": "code",
   "execution_count": 7,
   "id": "039f84f6",
   "metadata": {},
   "outputs": [
    {
     "name": "stdout",
     "output_type": "stream",
     "text": [
      "3\n",
      "5\n",
      "addition :  8\n",
      "substraction :  -2\n",
      "multiplication :  15\n"
     ]
    }
   ],
   "source": [
    "a = int(input())\n",
    "b = int(input())\n",
    "    \n",
    "addition = a+b\n",
    "substraction = a-b\n",
    "multiplication = a*b\n",
    "    \n",
    "print(\"addition : \", addition)\n",
    "print(\"substraction : \", substraction)\n",
    "print(\"multiplication : \", multiplication)"
   ]
  },
  {
   "cell_type": "markdown",
   "id": "263030d4",
   "metadata": {},
   "source": [
    "### Q4-Python : Division\n",
    "\n",
    "The provided code stub reads two integers, a and b, from STDIN.\n",
    "\n",
    "Add logic to print two lines. The first line should contain the result of integer division,  a//b . The second line should contain the result of float division,  a/b .\n",
    "\n",
    "No rounding or formatting is necessary.\n",
    "\n",
    "Example\n",
    "\n",
    "a= 3\n",
    "\n",
    "b= 5\n",
    "\n",
    "- The result of the integer division 3//5 = 0 .\n",
    "- The result of the float division is 3/5 = 0.6 ."
   ]
  },
  {
   "cell_type": "code",
   "execution_count": 14,
   "id": "9bb8c3a9",
   "metadata": {},
   "outputs": [
    {
     "name": "stdout",
     "output_type": "stream",
     "text": [
      "3\n",
      "5\n",
      "Integar result : 0\n",
      "Float result : 0.6\n"
     ]
    }
   ],
   "source": [
    "a = int(input())\n",
    "b = int(input())\n",
    "int_result = int(a/b)\n",
    "float_result = a/b\n",
    "print(\"Integar result :\",int_result)\n",
    "print(\"Float result :\",float_result)\n"
   ]
  },
  {
   "cell_type": "markdown",
   "id": "9bfe48ac",
   "metadata": {},
   "source": [
    "### Q5- Loops\n",
    "\n",
    "The provided code stub reads and integer,n, from STDIN. For all non-negative integers i<n, print i2.\n",
    "\n",
    "Example\n",
    "\n",
    "n= 3\n",
    "\n",
    "The list of non-negative integers that are less than n=3 is[0,1,2].\n",
    "\n",
    "Print the square of each number on a separate line."
   ]
  },
  {
   "cell_type": "code",
   "execution_count": 16,
   "id": "da3a6bc7",
   "metadata": {},
   "outputs": [
    {
     "name": "stdout",
     "output_type": "stream",
     "text": [
      "3\n",
      "Result : 0\n",
      "Result : 1\n",
      "Result : 4\n"
     ]
    }
   ],
   "source": [
    "n = int(input())\n",
    "for i in range(n):\n",
    "    result= i**2\n",
    "    print(\"Result :\",result)"
   ]
  },
  {
   "cell_type": "markdown",
   "id": "c28afafd",
   "metadata": {},
   "source": [
    "### Q6- Write a Function\n",
    "\n",
    "Given a year, determine whether it is a leap year. If it is a leap year, return the Boolean True, otherwise return False.\n",
    "\n",
    "Note that the code stub provided reads from STDIN and passes arguments to the is_leap function. It is only necessary to complete the is_leap function.\n",
    "\n",
    "Input Format\n",
    "\n",
    "Read year, the year to test.\n",
    "\n",
    "Constraints\n",
    "1900<=year<=10 5"
   ]
  },
  {
   "cell_type": "code",
   "execution_count": 21,
   "id": "64974bda",
   "metadata": {},
   "outputs": [
    {
     "name": "stdout",
     "output_type": "stream",
     "text": [
      "1990\n",
      "False\n"
     ]
    }
   ],
   "source": [
    "def is_leap(year):\n",
    "    leap = False\n",
    "    if (year % 4) ==0:\n",
    "        if (year % 100) ==0:\n",
    "            if (year % 400) ==0:\n",
    "                return True\n",
    "            else:\n",
    "                return leap\n",
    "        else:\n",
    "            return True\n",
    "    else:\n",
    "        return leap\n",
    "\n",
    "year = int(input())\n",
    "print(is_leap(year))"
   ]
  },
  {
   "cell_type": "markdown",
   "id": "9d1f3f9e",
   "metadata": {},
   "source": [
    "### Q7- Print Function\n",
    "\n",
    "The included code stub will read an integer, , from STDIN.\n",
    "\n",
    "Without using any string methods, try to print the following:\n",
    "123...n\n",
    "\n",
    "Note that \"\" represents the consecutive values in between.\n",
    "\n",
    "Example\n",
    "n=5\n",
    "\n",
    "Print the string 12345.\n",
    "\n",
    "Input Format\n",
    "\n",
    "The first line contains an integer n .\n",
    "\n",
    "Constraints\n",
    "1<=n<=150"
   ]
  },
  {
   "cell_type": "code",
   "execution_count": 22,
   "id": "b170cc1e",
   "metadata": {},
   "outputs": [
    {
     "name": "stdout",
     "output_type": "stream",
     "text": [
      "5\n",
      "12345"
     ]
    }
   ],
   "source": [
    "n = int(input())\n",
    "for i in range(1,n+1):\n",
    "    print(i,end='')"
   ]
  }
 ],
 "metadata": {
  "kernelspec": {
   "display_name": "Python 3",
   "language": "python",
   "name": "python3"
  },
  "language_info": {
   "codemirror_mode": {
    "name": "ipython",
    "version": 3
   },
   "file_extension": ".py",
   "mimetype": "text/x-python",
   "name": "python",
   "nbconvert_exporter": "python",
   "pygments_lexer": "ipython3",
   "version": "3.8.8"
  }
 },
 "nbformat": 4,
 "nbformat_minor": 5
}
